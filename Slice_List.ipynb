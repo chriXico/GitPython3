{
  "nbformat": 4,
  "nbformat_minor": 0,
  "metadata": {
    "colab": {
      "provenance": [],
      "authorship_tag": "ABX9TyOyBI8vdpSiqIaPTUZl0Vch",
      "include_colab_link": true
    },
    "kernelspec": {
      "name": "python3",
      "display_name": "Python 3"
    },
    "language_info": {
      "name": "python"
    }
  },
  "cells": [
    {
      "cell_type": "markdown",
      "metadata": {
        "id": "view-in-github",
        "colab_type": "text"
      },
      "source": [
        "<a href=\"https://colab.research.google.com/github/chriXico/GitPython3/blob/main/Slice_List.ipynb\" target=\"_parent\"><img src=\"https://colab.research.google.com/assets/colab-badge.svg\" alt=\"Open In Colab\"/></a>"
      ]
    },
    {
      "cell_type": "markdown",
      "source": [
        "#List Slicing"
      ],
      "metadata": {
        "id": "OmQxCEaTFXm3"
      }
    },
    {
      "cell_type": "code",
      "execution_count": 4,
      "metadata": {
        "colab": {
          "base_uri": "https://localhost:8080/"
        },
        "id": "gqNm-AxCFHqF",
        "outputId": "2bb38eab-e15f-467b-f6c1-e2d3fe2a83fe"
      },
      "outputs": [
        {
          "output_type": "stream",
          "name": "stdout",
          "text": [
            "two\n",
            "['one', 'two', 'three', 'four', 'five']\n",
            "<class 'list'>\n",
            "['two', 'three']\n"
          ]
        }
      ],
      "source": [
        "players = ['one','two','three','four','five']\n",
        "print(players[1])\n",
        "print(players)\n",
        "print(type(players))\n",
        "print(players[1:3])"
      ]
    },
    {
      "cell_type": "code",
      "source": [
        "print(players[0:1])\n",
        "print(players[:3])"
      ],
      "metadata": {
        "colab": {
          "base_uri": "https://localhost:8080/"
        },
        "id": "rPdSPQw-GcSp",
        "outputId": "53a914de-751d-49ef-e6c2-8df413337384"
      },
      "execution_count": 6,
      "outputs": [
        {
          "output_type": "stream",
          "name": "stdout",
          "text": [
            "['one']\n",
            "['one', 'two', 'three']\n"
          ]
        }
      ]
    },
    {
      "cell_type": "code",
      "source": [
        "print(players[2:])"
      ],
      "metadata": {
        "colab": {
          "base_uri": "https://localhost:8080/"
        },
        "id": "ovuHMQ-fG5uv",
        "outputId": "5fa52f96-1dd8-4e5e-c9be-f532d1a7aa4c"
      },
      "execution_count": 8,
      "outputs": [
        {
          "output_type": "stream",
          "name": "stdout",
          "text": [
            "['three', 'four', 'five']\n"
          ]
        }
      ]
    },
    {
      "cell_type": "code",
      "source": [
        "print(players[:])"
      ],
      "metadata": {
        "colab": {
          "base_uri": "https://localhost:8080/"
        },
        "id": "wcDN0noGHC70",
        "outputId": "981b554d-23f6-4009-bda0-46e2a6219497"
      },
      "execution_count": 10,
      "outputs": [
        {
          "output_type": "stream",
          "name": "stdout",
          "text": [
            "['one', 'two', 'three', 'four', 'five']\n"
          ]
        }
      ]
    },
    {
      "cell_type": "code",
      "source": [
        "print(players[-1])\n",
        "print(players[:-2])\n",
        "print(players[-3:])"
      ],
      "metadata": {
        "colab": {
          "base_uri": "https://localhost:8080/"
        },
        "id": "8D9zsYZkHG-o",
        "outputId": "aeefede2-3a27-40fa-a64e-12d3c9b226f2"
      },
      "execution_count": 17,
      "outputs": [
        {
          "output_type": "stream",
          "name": "stdout",
          "text": [
            "five\n",
            "['one', 'two', 'three']\n",
            "['three', 'four', 'five']\n"
          ]
        }
      ]
    },
    {
      "cell_type": "code",
      "source": [
        "print(players[-5:-2])"
      ],
      "metadata": {
        "colab": {
          "base_uri": "https://localhost:8080/"
        },
        "id": "v2krY-PqIdIW",
        "outputId": "e89b2ad0-d6a9-49f3-b27e-3e6d91a191d4"
      },
      "execution_count": 19,
      "outputs": [
        {
          "output_type": "stream",
          "name": "stdout",
          "text": [
            "['one', 'two', 'three']\n"
          ]
        }
      ]
    },
    {
      "cell_type": "code",
      "source": [
        "first_index = -5\n",
        "print(players[first_index:])"
      ],
      "metadata": {
        "colab": {
          "base_uri": "https://localhost:8080/"
        },
        "id": "fflhV09JI6ss",
        "outputId": "be1cdf5e-4654-4f9d-8f59-51f9df31a748"
      },
      "execution_count": 20,
      "outputs": [
        {
          "output_type": "stream",
          "name": "stdout",
          "text": [
            "['one', 'two', 'three', 'four', 'five']\n"
          ]
        }
      ]
    },
    {
      "cell_type": "code",
      "source": [
        "#palindromo = oso, anitalavalatina\n",
        "players.append('six')\n",
        "players.append('seven')\n",
        "players.append('eight')\n",
        "players.append('nine')\n",
        "players.append('ten')"
      ],
      "metadata": {
        "id": "GbyRdWenLFaY"
      },
      "execution_count": null,
      "outputs": []
    },
    {
      "cell_type": "code",
      "source": [
        "print(players)\n",
        "print(players[::3])\n",
        "\n",
        "print(players[3:9:2])"
      ],
      "metadata": {
        "colab": {
          "base_uri": "https://localhost:8080/"
        },
        "id": "Q-gtQIlrK9PG",
        "outputId": "d4145d9c-1a5f-4f22-aee7-5d06fa8d89fd"
      },
      "execution_count": 29,
      "outputs": [
        {
          "output_type": "stream",
          "name": "stdout",
          "text": [
            "['one', 'two', 'three', 'four', 'five', 'six', 'seven', 'eight', 'nine', 'ten', 'six', 'seven', 'eight', 'nine', 'ten', 'six', 'seven', 'eight', 'nine', 'ten', 'six', 'seven', 'eight', 'nine', 'ten', 'six', 'seven', 'eight', 'nine', 'ten', 'six', 'seven', 'eight', 'nine', 'ten', 'six', 'seven', 'eight', 'nine', 'ten']\n",
            "['one', 'three', 'five', 'seven', 'nine', 'six', 'eight', 'ten', 'seven', 'nine', 'six', 'eight', 'ten', 'seven', 'nine', 'six', 'eight', 'ten', 'seven', 'nine']\n",
            "['one', 'four', 'seven', 'ten', 'eight', 'six', 'nine', 'seven', 'ten', 'eight', 'six', 'nine', 'seven', 'ten']\n",
            "['four', 'six', 'eight']\n"
          ]
        }
      ]
    },
    {
      "cell_type": "code",
      "source": [
        "print(players[::2])\n",
        "print(players[1::2])"
      ],
      "metadata": {
        "colab": {
          "base_uri": "https://localhost:8080/"
        },
        "id": "klHa2_zjLIkM",
        "outputId": "6bfaf3c9-2fa8-43f6-a928-c8da7da34f79"
      },
      "execution_count": 30,
      "outputs": [
        {
          "output_type": "stream",
          "name": "stdout",
          "text": [
            "['one', 'three', 'five', 'seven', 'nine', 'six', 'eight', 'ten', 'seven', 'nine', 'six', 'eight', 'ten', 'seven', 'nine', 'six', 'eight', 'ten', 'seven', 'nine']\n",
            "['two', 'four', 'six', 'eight', 'ten', 'seven', 'nine', 'six', 'eight', 'ten', 'seven', 'nine', 'six', 'eight', 'ten', 'seven', 'nine', 'six', 'eight', 'ten']\n"
          ]
        }
      ]
    },
    {
      "cell_type": "code",
      "source": [
        "numbers = list(range(1,11))\n",
        "print(numbers)\n",
        "print(len(numbers))\n",
        "\n",
        "print(numbers[::-1])"
      ],
      "metadata": {
        "colab": {
          "base_uri": "https://localhost:8080/"
        },
        "id": "0FoFI5fMLVhC",
        "outputId": "aac08bb7-efe5-4884-83d3-875adb14e720"
      },
      "execution_count": 37,
      "outputs": [
        {
          "output_type": "stream",
          "name": "stdout",
          "text": [
            "[1, 2, 3, 4, 5, 6, 7, 8, 9, 10]\n",
            "10\n",
            "[10, 9, 8, 7, 6, 5, 4, 3, 2, 1]\n"
          ]
        }
      ]
    },
    {
      "cell_type": "code",
      "source": [
        "word = 'anitalavalatina'\n",
        "word == word[::-1]"
      ],
      "metadata": {
        "colab": {
          "base_uri": "https://localhost:8080/"
        },
        "id": "mtSIbnskMbQt",
        "outputId": "ed8b3cc1-6b51-4653-b32c-f76d59612608"
      },
      "execution_count": 38,
      "outputs": [
        {
          "output_type": "execute_result",
          "data": {
            "text/plain": [
              "True"
            ]
          },
          "metadata": {},
          "execution_count": 38
        }
      ]
    }
  ]
}