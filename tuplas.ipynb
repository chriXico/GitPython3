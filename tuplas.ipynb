{
 "cells": [
  {
   "cell_type": "markdown",
   "id": "5093eb0e-790d-45eb-8d76-8dab8a3c121a",
   "metadata": {},
   "source": [
    "<h1>TUPLAS</h1>"
   ]
  },
  {
   "cell_type": "markdown",
   "id": "e5b75cef-e674-426b-862b-fb6814c66a69",
   "metadata": {},
   "source": [
    "Las tuplas en Python son un tipo o estructura de \n",
    "datos que permite almacenar datos de una manera muy \n",
    "parecida a las listas, con la salvedad de que son \n",
    "inmutables.\n",
    "\n",
    " <img src=\"https://elpythonista.com/wp-content/uploads/2020/11/Tuplas_En_Python.jpg\">"
   ]
  },
  {
   "cell_type": "markdown",
   "id": "c10ae187-42a1-4708-a385-499f82763aad",
   "metadata": {},
   "source": [
    "<h2>Los usos más comunes de las tuplas incluyen:</h2>\n",
    "\n",
    "* <strong>Almacenamiento de valores fijos:</strong> Las tuplas \n",
    "son ideales para almacenar conjuntos de valores que no cambian, \n",
    "como coordenadas geográficas o fechas. Esto asegura que los datos \n",
    "permanezcan consistentes a lo largo de la ejecución del programa\n",
    "\n",
    "* <strong>Retorno de múltiples valores:</strong> Las funciones pueden usar tuplas para devolver múltiples valores a la vez. Esto es útil cuando una función necesita proporcionar varios resultados sin necesidad de crear una estructura de datos adiciona\n",
    "\n",
    "* <strong>Claves en diccionarios:</strong> Debido a su inmutabilidad, las tuplas pueden ser utilizadas como claves en diccionarios. Esto es útil en situaciones donde se necesita una clave única que no cambie\n",
    "\n",
    "* <strong>Representación de datos relacionados:</strong> Las tuplas pueden agrupar elementos de datos relacionados de manera flexible, facilitando la organización y el acceso a estos datos "
   ]
  },
  {
   "cell_type": "markdown",
   "id": "ea52f339-87f9-4d55-ba19-fff34a30e959",
   "metadata": {},
   "source": [
    "<h3>Crear Tuplas</h3>\n",
    "Para crear una tupla en Python, simplemente se definen los elementos separados por comas entre paréntesis. Por ejemplo, para crear una tupla con los números del 1 al 5, se hace de la siguiente manera:"
   ]
  },
  {
   "cell_type": "code",
   "execution_count": 4,
   "id": "1a88f7e6-8000-47eb-8a3c-fd1ddc667845",
   "metadata": {},
   "outputs": [],
   "source": [
    "numeros = 1, 2, 3, 4, 5"
   ]
  },
  {
   "cell_type": "markdown",
   "id": "a96040d3-5777-4d60-8f22-fd0a85b19509",
   "metadata": {},
   "source": [
    "También se pueden crear tuplas con elementos de diferentes tipos y contener otros elementos compuestos como listas o tuplas:"
   ]
  },
  {
   "cell_type": "code",
   "execution_count": 5,
   "id": "8557fe2a-20ea-4c42-8854-ea6bd3c5887c",
   "metadata": {},
   "outputs": [],
   "source": [
    "elementos = 3, 'a', 8, 7.2, 'hola'\n",
    "tupla_con_lista = 1, ['a', 'e', 'i', 'o', 'u'], 8.9, 'hola'"
   ]
  },
  {
   "cell_type": "markdown",
   "id": "eff1ff8b-0751-4232-bcf4-17f437254dcf",
   "metadata": {},
   "source": [
    "<br>"
   ]
  },
  {
   "cell_type": "markdown",
   "id": "48c46157-54f1-4bc6-b4a4-b961e72030c6",
   "metadata": {},
   "source": [
    "<h3>Modificar Tuplas</h3>\n",
    "Dado que las tuplas son inmutables, no se pueden modificar directamente. Sin embargo, si una tupla contiene elementos mutables (como listas), se pueden modificar esos elementos internos. Por ejemplo:"
   ]
  },
  {
   "cell_type": "code",
   "execution_count": 6,
   "id": "af2be40d-55dc-40e0-a61e-e4bcb8c3ad46",
   "metadata": {},
   "outputs": [
    {
     "name": "stdout",
     "output_type": "stream",
     "text": [
      "(1, ['a', 'b', 'c'], 'hola', 8.2)\n"
     ]
    }
   ],
   "source": [
    "tupla = (1, ['a', 'b'], 'hola', 8.2)\n",
    "tupla[1].append('c')  # Modifica la lista interna\n",
    "print(tupla)  # Resultado: (1, ['a', 'b', 'c'], 'hola', 8.2)"
   ]
  },
  {
   "cell_type": "markdown",
   "id": "73296b7a-04bf-45a4-a0b3-47b21a961be3",
   "metadata": {},
   "source": [
    "Para actualizar una tupla con nuevos elementos, se puede concatenar la tupla original con otra tupla que contenga los nuevos elementos:"
   ]
  },
  {
   "cell_type": "code",
   "execution_count": 7,
   "id": "dee81b87-c62a-4da5-af38-6ac99759749a",
   "metadata": {},
   "outputs": [
    {
     "name": "stdout",
     "output_type": "stream",
     "text": [
      "('perro', 'gato', 'ratón', 'serpiente', 'caballo', 'hámster', 'jirafa')\n"
     ]
    }
   ],
   "source": [
    "algunos_animales = (\"perro\", \"gato\", \"ratón\", \"serpiente\", \"caballo\")\n",
    "todos_los_animales = algunos_animales + (\"hámster\", \"jirafa\")\n",
    "print(todos_los_animales)  # Resultado: ('perro', 'gato', 'ratón', 'serpiente', 'caballo', 'hámster', 'jirafa')"
   ]
  },
  {
   "cell_type": "markdown",
   "id": "6176e11d-f746-450d-8af4-baacde3068e9",
   "metadata": {},
   "source": [
    "<br>"
   ]
  },
  {
   "cell_type": "markdown",
   "id": "3171747f-b9e8-46a3-ae58-9ef7a33848c6",
   "metadata": {},
   "source": [
    "<h3>Eliminar elemtos de Tuplas</h3>\n",
    "No se pueden eliminar elementos individuales de una tupla directamente debido a su inmutabilidad. Sin embargo, se puede eliminar la tupla completa utilizando el comando del:"
   ]
  },
  {
   "cell_type": "code",
   "execution_count": 9,
   "id": "19741a97-a2a6-4bb9-a5d3-7ea22549be5d",
   "metadata": {},
   "outputs": [],
   "source": [
    "animales = (\"perro\", \"gato\", \"ratón\", \"serpiente\", \"caballo\")\n",
    "del animales"
   ]
  },
  {
   "cell_type": "markdown",
   "id": "e4c31da0-0f5c-4e45-8462-9812d39a7dc9",
   "metadata": {},
   "source": [
    "<br>"
   ]
  },
  {
   "cell_type": "markdown",
   "id": "034880e5-7bda-4458-9535-f046b63463bb",
   "metadata": {},
   "source": [
    "<h3>Acceso y Selección de Elementos</h3>\n",
    "Para acceder o seleccionar elementos dentro de una tupla, se utiliza el índice del elemento deseado. Los índices en Python comienzan en 0 para el primer elemento. Por ejemplo, para acceder al segundo elemento de una tupla:"
   ]
  },
  {
   "cell_type": "code",
   "execution_count": 10,
   "id": "64ce2ee3-5d10-433e-8cd2-45e60d019a1c",
   "metadata": {},
   "outputs": [
    {
     "name": "stdout",
     "output_type": "stream",
     "text": [
      "gato\n"
     ]
    }
   ],
   "source": [
    "animales = (\"perro\", \"gato\", \"ratón\")\n",
    "print(animales[1])  # Resultado: 'gato'"
   ]
  },
  {
   "cell_type": "markdown",
   "id": "0fa643e1-c667-4683-96c8-2c654c5c94ff",
   "metadata": {},
   "source": [
    "Para seleccionar un rango de elementos, se especifica el índice inicial y final del rango:"
   ]
  },
  {
   "cell_type": "code",
   "execution_count": 12,
   "id": "c0c0e2b5-cc59-4014-b761-f28aa02f98c2",
   "metadata": {},
   "outputs": [
    {
     "name": "stdout",
     "output_type": "stream",
     "text": [
      "('gato', 'ratón')\n"
     ]
    }
   ],
   "source": [
    "animales = (\"perro\", \"gato\", \"ratón\", \"serpiente\", \"caballo\")\n",
    "print(animales[1:3])  # Resultado: ('gato', 'ratón')"
   ]
  },
  {
   "cell_type": "markdown",
   "id": "62258591-c5d5-473c-889d-54eb5a0b97ac",
   "metadata": {},
   "source": [
    "<br>"
   ]
  },
  {
   "cell_type": "markdown",
   "id": "cd767595-8700-48e1-9aba-410b4e60bb38",
   "metadata": {},
   "source": [
    "<h2>Diferencias entre Tuplas y Listas</h2>"
   ]
  },
  {
   "cell_type": "markdown",
   "id": "eda9b892-cee6-4c25-a8cb-105eb3d5b26d",
   "metadata": {},
   "source": [
    "| Característica        | Listas                   | Tuplas                    |\n",
    "|-----------------------|--------------------------|---------------------------|\n",
    "| Mutabilidad           | Mutables                 | Inmutables                |\n",
    "| Sintaxis              | Definidas con [ ]         | Definidas con ( )          |\n",
    "| Rendimiento           | Menos eficiente en ciertos casos | Potencialmente más eficiente |\n",
    "| Uso                   | Para colecciones mutables | Para colecciones inmutables |\n",
    "| Funciones integradas  | Funciones específicas de listas como append(), extend(), etc. | Funciones que no alteran la tupla original como len(), index(), etc. |\n"
   ]
  },
  {
   "cell_type": "markdown",
   "id": "b76063df-3e20-40b0-be3e-219f1a2437c6",
   "metadata": {},
   "source": [
    "<br>"
   ]
  },
  {
   "cell_type": "markdown",
   "id": "c81e14b4-ae67-4ea4-ba02-61e8df6c85ce",
   "metadata": {},
   "source": [
    "<h1>Ejercicios de Tuplas</h1>"
   ]
  },
  {
   "cell_type": "markdown",
   "id": "c0e2c4cc-beac-406b-bfe8-0415f08c4d96",
   "metadata": {},
   "source": [
    "5. <strong>Crea una tupla con los meses del año, pide números al usuario, si el numero esta entre 1 y la longitud máxima de la tupla, muestra el contenido de esa posición sino muestra un mensaje de error.\n",
    "El programa termina cuando el usuario introduce un cero.</strong>"
   ]
  },
  {
   "cell_type": "code",
   "execution_count": 16,
   "id": "023146fd-040e-4bd5-b70a-edf2a0597433",
   "metadata": {},
   "outputs": [
    {
     "name": "stdin",
     "output_type": "stream",
     "text": [
      "Dame un numero:  4\n"
     ]
    },
    {
     "name": "stdout",
     "output_type": "stream",
     "text": [
      "Abril\n"
     ]
    },
    {
     "name": "stdin",
     "output_type": "stream",
     "text": [
      "Dame un numero:  6\n"
     ]
    },
    {
     "name": "stdout",
     "output_type": "stream",
     "text": [
      "Junio\n"
     ]
    },
    {
     "name": "stdin",
     "output_type": "stream",
     "text": [
      "Dame un numero:  0\n"
     ]
    }
   ],
   "source": [
    "meses = (\"Enero\", \"Febrero\", \"Marzo\", \"Abril\", \"Mayo\", \"Junio\", \"Julio\", \"Agosto\", \"Septiembre\", \"Octubre\", \"Noviembre\", \"Diciembre\")\n",
    " \n",
    "salir = False\n",
    "while(not salir):\n",
    "     \n",
    "    numero = int(input(\"Dame un numero: \"))\n",
    " \n",
    "    if(numero==0):\n",
    "        salir= True\n",
    "    else:\n",
    "        if(numero>=1 and numero<=len(meses)):\n",
    "            print(meses[numero-1])\n",
    "        else:\n",
    "            print(\"Inserta un numero entre 1 y \",len(meses))"
   ]
  },
  {
   "cell_type": "markdown",
   "id": "b234fd2d-13be-4533-9dcc-c079be6fd996",
   "metadata": {},
   "source": [
    "6. <strong>Escribir un programa que almacene las asignaturas de un curso (por ejemplo Matemáticas, Física, Química, Historia y Lengua) en una lista y la muestre por pantalla.</strong>"
   ]
  },
  {
   "cell_type": "code",
   "execution_count": 17,
   "id": "34f48bd6-66fb-4fe6-b6dd-45b7f78d29f8",
   "metadata": {},
   "outputs": [
    {
     "name": "stdout",
     "output_type": "stream",
     "text": [
      "Yo estudio Matemáticas\n",
      "Yo estudio Física\n",
      "Yo estudio Química\n",
      "Yo estudio Historia\n",
      "Yo estudio Lengua\n"
     ]
    }
   ],
   "source": [
    "subjects = (\"Matemáticas\", \"Física\", \"Química\", \"Historia\", \"Lengua\")\n",
    "for subject in subjects:\n",
    "    print(\"Yo estudio \" + subject)"
   ]
  },
  {
   "cell_type": "markdown",
   "id": "cd390cb1-0549-4908-8abc-3fecc0306bd0",
   "metadata": {},
   "source": [
    "7. <strong>Escribir un programa que almacene las asignaturas de un curso (por ejemplo Matemáticas, Física, Química, Historia y Lengua) en una lista y la muestre por pantalla.<strong/>"
   ]
  },
  {
   "cell_type": "code",
   "execution_count": 18,
   "id": "210df229-149a-42fe-b2b8-8378d4708591",
   "metadata": {},
   "outputs": [
    {
     "name": "stdin",
     "output_type": "stream",
     "text": [
      "¿Qué nota has sacado en Matemáticas? 6\n",
      "¿Qué nota has sacado en Física? 6\n",
      "¿Qué nota has sacado en Química? 6\n",
      "¿Qué nota has sacado en Historia? 10\n",
      "¿Qué nota has sacado en Lengua? 10\n"
     ]
    },
    {
     "name": "stdout",
     "output_type": "stream",
     "text": [
      "En Matemáticas has sacado 6\n",
      "En Física has sacado 6\n",
      "En Química has sacado 6\n",
      "En Historia has sacado 10\n",
      "En Lengua has sacado 10\n"
     ]
    }
   ],
   "source": [
    "subjects = (\"Matemáticas\", \"Física\", \"Química\", \"Historia\", \"Lengua\")\n",
    "scores = []\n",
    "for subject in subjects:\n",
    "    score = input(\"¿Qué nota has sacado en \" + subject + \"?\")\n",
    "    scores.append(score)\n",
    "for i in range(len(subjects)):\n",
    "    print(\"En \" + subjects[i] + \" has sacado \" + scores[i])"
   ]
  },
  {
   "cell_type": "markdown",
   "id": "ad912f70-13b3-4bce-8f61-128aa64f1d5e",
   "metadata": {},
   "source": [
    "8. <Strong>Escribir un programa que almacene en una lista los números del 1 al 10 y los muestre por pantalla en orden inverso separados por comas.</strong>"
   ]
  },
  {
   "cell_type": "code",
   "execution_count": 19,
   "id": "8df3b51f-c249-49e3-839f-9c6889529a11",
   "metadata": {},
   "outputs": [
    {
     "name": "stdout",
     "output_type": "stream",
     "text": [
      "10, 9, 8, 7, 6, 5, 4, 3, 2, 1, "
     ]
    }
   ],
   "source": [
    "numbers = (1, 2, 3, 4, 5, 6, 7, 8, 9, 10)\n",
    "numbers = numbers[::-1]  # Usamos slicing para invertir la tupla\n",
    "for number in numbers:\n",
    "    print(number, end=\", \")"
   ]
  },
  {
   "cell_type": "markdown",
   "id": "e5d86d29-694b-4cc2-8467-641f63dba818",
   "metadata": {},
   "source": [
    "9. <strong>Escribir un programa que pida al usuario una palabra y muestre por pantalla el número de veces que contiene cada vocal.</strong>"
   ]
  },
  {
   "cell_type": "code",
   "execution_count": 23,
   "id": "8f7d77b3-6a86-4421-bdc6-b4695a24eacd",
   "metadata": {},
   "outputs": [
    {
     "name": "stdin",
     "output_type": "stream",
     "text": [
      "Introduce una palabra:  Destiny es un juego bueno\n"
     ]
    },
    {
     "name": "stdout",
     "output_type": "stream",
     "text": [
      "La vocal a aparece 0 veces\n",
      "La vocal e aparece 4 veces\n",
      "La vocal i aparece 1 veces\n",
      "La vocal o aparece 2 veces\n",
      "La vocal u aparece 3 veces\n"
     ]
    }
   ],
   "source": [
    "word = input(\"Introduce una palabra: \")\n",
    "vocals = ('a', 'e', 'i', 'o', 'u')  # Usamos una tupla para las vocales\n",
    "for vocal in vocals: \n",
    "    times = 0\n",
    "    for letter in word: \n",
    "        if letter == vocal:\n",
    "            times += 1\n",
    "    print(\"La vocal \" + vocal + \" aparece \" + str(times) + \" veces\")"
   ]
  },
  {
   "cell_type": "markdown",
   "id": "93aa6e0c-4d7a-4b85-9e0f-bce2e2214caf",
   "metadata": {},
   "source": [
    "10. <strong>Escribe un programa que compare dos tuplas y determine si son iguales.</strong>"
   ]
  },
  {
   "cell_type": "code",
   "execution_count": 25,
   "id": "eca5165a-1c05-4f57-9e18-3b6721bb9860",
   "metadata": {},
   "outputs": [
    {
     "name": "stdout",
     "output_type": "stream",
     "text": [
      "True\n"
     ]
    }
   ],
   "source": [
    "tupla1 = (1, 2, 3)\n",
    "tupla2 = (1, 2, 3)\n",
    "print(tupla1 == tupla2)"
   ]
  }
 ],
 "metadata": {
  "kernelspec": {
   "display_name": "Python 3 (ipykernel)",
   "language": "python",
   "name": "python3"
  },
  "language_info": {
   "codemirror_mode": {
    "name": "ipython",
    "version": 3
   },
   "file_extension": ".py",
   "mimetype": "text/x-python",
   "name": "python",
   "nbconvert_exporter": "python",
   "pygments_lexer": "ipython3",
   "version": "3.12.2"
  }
 },
 "nbformat": 4,
 "nbformat_minor": 5
}
