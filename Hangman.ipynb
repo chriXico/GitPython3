{
  "nbformat": 4,
  "nbformat_minor": 0,
  "metadata": {
    "colab": {
      "provenance": [],
      "authorship_tag": "ABX9TyMWLZYpbEqTctwBZMqbEoCy",
      "include_colab_link": true
    },
    "kernelspec": {
      "name": "python3",
      "display_name": "Python 3"
    },
    "language_info": {
      "name": "python"
    }
  },
  "cells": [
    {
      "cell_type": "markdown",
      "metadata": {
        "id": "view-in-github",
        "colab_type": "text"
      },
      "source": [
        "<a href=\"https://colab.research.google.com/github/chriXico/GitPython3/blob/main/Hangman.ipynb\" target=\"_parent\"><img src=\"https://colab.research.google.com/assets/colab-badge.svg\" alt=\"Open In Colab\"/></a>"
      ]
    },
    {
      "cell_type": "markdown",
      "source": [
        "# HANGMAN - AHORCADO"
      ],
      "metadata": {
        "id": "-NfyF4kaE92I"
      }
    },
    {
      "cell_type": "markdown",
      "source": [
        "Alguien:\n",
        "\n",
        "1. PEDIR LA PALABRA (MAQUINA ESCOJA LA PALABRA)\n",
        "2. INGRESAR LETRA\n",
        "3. SI ACIERTA SE COMPLETA UN ESPACIO O TIENE UN ACIERTO\n",
        "4. SI SE EQUIVOCA PIERDE UNA VIDA\n",
        "5. SI ACIERTA TODAS LAS LETRAS GANA"
      ],
      "metadata": {
        "id": "CGZJJnVqFVuj"
      }
    },
    {
      "cell_type": "code",
      "execution_count": 20,
      "metadata": {
        "colab": {
          "base_uri": "https://localhost:8080/"
        },
        "id": "eNsOVIT3E54g",
        "outputId": "b01aff8e-d97d-4540-8b6c-10ad45e42472"
      },
      "outputs": [
        {
          "output_type": "stream",
          "name": "stdout",
          "text": [
            "['aback', 'abaft', 'abandoned', 'abashed', 'aberrant']\n"
          ]
        }
      ],
      "source": [
        "import random\n",
        "from words import words\n",
        "\n",
        "print(words[0:5])"
      ]
    },
    {
      "cell_type": "code",
      "source": [
        "def get_valid_word(words):\n",
        "  word = random.choice(words)\n",
        "  return word.upper()\n",
        "\n",
        "get_valid_word(words[0:5])"
      ],
      "metadata": {
        "colab": {
          "base_uri": "https://localhost:8080/",
          "height": 36
        },
        "id": "QCeXYWH3HLAE",
        "outputId": "20cfca08-586e-4078-c315-2ca173160878"
      },
      "execution_count": 19,
      "outputs": [
        {
          "output_type": "execute_result",
          "data": {
            "text/plain": [
              "'ABACK'"
            ],
            "application/vnd.google.colaboratory.intrinsic+json": {
              "type": "string"
            }
          },
          "metadata": {},
          "execution_count": 19
        }
      ]
    },
    {
      "cell_type": "code",
      "source": [
        "letters = \"ABCDEFABCDABCD\"\n",
        "print(set(letters))"
      ],
      "metadata": {
        "colab": {
          "base_uri": "https://localhost:8080/"
        },
        "id": "jFbRthN2K7jL",
        "outputId": "168b02e1-d114-46f5-a353-410fe1d60bf1"
      },
      "execution_count": 22,
      "outputs": [
        {
          "output_type": "stream",
          "name": "stdout",
          "text": [
            "{'F', 'D', 'C', 'A', 'B', 'E'}\n"
          ]
        }
      ]
    },
    {
      "cell_type": "code",
      "source": [
        "letters_A = {'A','B','C','D','E'}\n",
        "letters_B = {'A','B'}\n",
        "\n",
        "print(letters_A - letters_B)"
      ],
      "metadata": {
        "colab": {
          "base_uri": "https://localhost:8080/"
        },
        "id": "yoUhz-YANzLX",
        "outputId": "cf6f6f8a-2aa8-42a6-adf5-a7589bf66840"
      },
      "execution_count": 33,
      "outputs": [
        {
          "output_type": "stream",
          "name": "stdout",
          "text": [
            "{'D', 'E', 'C'}\n"
          ]
        }
      ]
    },
    {
      "cell_type": "code",
      "source": [
        "import string\n",
        "\n",
        "def hangman():\n",
        "  word = get_valid_word(words)\n",
        "  print('Disclaimer: This code does not appear in the game: ', word)\n",
        "  #print('Your letter is ', '_ ' * len(word))\n",
        "  word_letters = set(word)\n",
        "  alphabet = set(string.ascii_uppercase)\n",
        "  used_letters = set()\n",
        "  lives = 6\n",
        "\n",
        "  while len(word_letters) > 0 and lives > 0:\n",
        "\n",
        "    # User's feedback\n",
        "    word_list = [letter if letter in used_letters else \"_\" for letter in word]\n",
        "    print('\\nCurrent word: ',' '.join(word_list))\n",
        "\n",
        "    #for letter in word:\n",
        "    #  if letter in used_letters\n",
        "    #    print(letter)\n",
        "    #  else:\n",
        "    #    print(\"_\")\n",
        "\n",
        "    #print(word_list)\n",
        "\n",
        "    user_letter = input(\"Guess a letter: \").upper()\n",
        "\n",
        "    if user_letter in alphabet - used_letters:\n",
        "      used_letters.add(user_letter)\n",
        "\n",
        "      if user_letter in word_letters:\n",
        "        word_letters.remove(user_letter)\n",
        "      else:\n",
        "        lives = lives - 1\n",
        "        print(\"1 life lost!\")\n",
        "\n",
        "    elif user_letter in used_letters:\n",
        "      print(\"The letter has been used, Please try again.\")\n",
        "\n",
        "    else:\n",
        "      print(\"Invalid character.\")\n",
        "\n",
        "    #print(\"Word letters: \", used_letters)\n",
        "    #print(\"Used letters: \", word_letters)\n",
        "\n",
        "    if(lives == 0):\n",
        "      print(\"The word was\", word, \"lifesigns lost 😢\")\n",
        "    else:\n",
        "      print(\"You win the word is: \", word)\n",
        "\n",
        "\n",
        "hangman()"
      ],
      "metadata": {
        "colab": {
          "base_uri": "https://localhost:8080/"
        },
        "id": "Gy68XBT9Ku4G",
        "outputId": "d9cd867b-a2e2-413e-c9b5-7a366abd026f"
      },
      "execution_count": 48,
      "outputs": [
        {
          "output_type": "stream",
          "name": "stdout",
          "text": [
            "Disclaimer: This code does not appear in the game:  CHEESE\n",
            "\n",
            "Current word:  _ _ _ _ _ _\n",
            "Guess a letter: q\n",
            "1 life lost!\n",
            "You win the word is:  CHEESE\n",
            "\n",
            "Current word:  _ _ _ _ _ _\n",
            "Guess a letter: q\n",
            "The letter has been used, Please try again.\n",
            "You win the word is:  CHEESE\n",
            "\n",
            "Current word:  _ _ _ _ _ _\n",
            "Guess a letter: q\n",
            "The letter has been used, Please try again.\n",
            "You win the word is:  CHEESE\n",
            "\n",
            "Current word:  _ _ _ _ _ _\n",
            "Guess a letter: q\n",
            "The letter has been used, Please try again.\n",
            "You win the word is:  CHEESE\n",
            "\n",
            "Current word:  _ _ _ _ _ _\n",
            "Guess a letter: q\n",
            "The letter has been used, Please try again.\n",
            "You win the word is:  CHEESE\n",
            "\n",
            "Current word:  _ _ _ _ _ _\n",
            "Guess a letter: q\n",
            "The letter has been used, Please try again.\n",
            "You win the word is:  CHEESE\n",
            "\n",
            "Current word:  _ _ _ _ _ _\n",
            "Guess a letter: q\n",
            "The letter has been used, Please try again.\n",
            "You win the word is:  CHEESE\n",
            "\n",
            "Current word:  _ _ _ _ _ _\n",
            "Guess a letter: l\n",
            "1 life lost!\n",
            "You win the word is:  CHEESE\n",
            "\n",
            "Current word:  _ _ _ _ _ _\n",
            "Guess a letter: m\n",
            "1 life lost!\n",
            "You win the word is:  CHEESE\n",
            "\n",
            "Current word:  _ _ _ _ _ _\n",
            "Guess a letter: a\n",
            "1 life lost!\n",
            "You win the word is:  CHEESE\n",
            "\n",
            "Current word:  _ _ _ _ _ _\n",
            "Guess a letter: p\n",
            "1 life lost!\n",
            "You win the word is:  CHEESE\n",
            "\n",
            "Current word:  _ _ _ _ _ _\n",
            "Guess a letter: t\n",
            "1 life lost!\n",
            "The word was CHEESE lifesigns lost 😢\n"
          ]
        }
      ]
    }
  ]
}