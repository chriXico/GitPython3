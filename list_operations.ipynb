{
  "nbformat": 4,
  "nbformat_minor": 0,
  "metadata": {
    "colab": {
      "provenance": [],
      "authorship_tag": "ABX9TyMko+XmV15VONv2tFnXH2/T",
      "include_colab_link": true
    },
    "kernelspec": {
      "name": "python3",
      "display_name": "Python 3"
    },
    "language_info": {
      "name": "python"
    }
  },
  "cells": [
    {
      "cell_type": "markdown",
      "metadata": {
        "id": "view-in-github",
        "colab_type": "text"
      },
      "source": [
        "<a href=\"https://colab.research.google.com/github/chriXico/GitPython3/blob/main/list_operations.ipynb\" target=\"_parent\"><img src=\"https://colab.research.google.com/assets/colab-badge.svg\" alt=\"Open In Colab\"/></a>"
      ]
    },
    {
      "cell_type": "code",
      "execution_count": 5,
      "metadata": {
        "colab": {
          "base_uri": "https://localhost:8080/"
        },
        "id": "Ki-0DBQyEYRE",
        "outputId": "e61bb416-00c4-4dc8-c05a-4c697f2695eb"
      },
      "outputs": [
        {
          "output_type": "stream",
          "name": "stdout",
          "text": [
            "Eduardo Alexis\n",
            "['one', 'two', 'three']\n",
            "['one', 'two', 'three']\n",
            "['Alexis', 'two', 'three']\n",
            "['Alexis', 'two', 'three']\n"
          ]
        }
      ],
      "source": [
        "#COPIA UNA VARIABLE\n",
        "nombre = \"Alexis\"\n",
        "nombre2 = nombre\n",
        "nombre = \"Eduardo\"\n",
        "\n",
        "print(nombre, nombre2)\n",
        "\n",
        "numbers = ['one','two','three']\n",
        "numbers_two = numbers\n",
        "\n",
        "print(numbers, numbers_two, sep='\\n')\n",
        "numbers[0] = 'Alexis' #SOLO ANDO MODIFICANDO LA PRIMERA LISTA\n",
        "\n",
        "print(numbers, numbers_two, sep='\\n')"
      ]
    },
    {
      "cell_type": "code",
      "source": [
        "numbers = ['one','two','three']\n",
        "numbers_copy = numbers.copy()\n",
        "\n",
        "numbers[0] = 'Alexis'\n",
        "\n",
        "print(numbers, numbers_copy, sep='\\n')"
      ],
      "metadata": {
        "colab": {
          "base_uri": "https://localhost:8080/"
        },
        "id": "UUrTg_PUI4jP",
        "outputId": "09c8e084-9c9c-4486-fc0c-d1e605fedb45"
      },
      "execution_count": 6,
      "outputs": [
        {
          "output_type": "stream",
          "name": "stdout",
          "text": [
            "['Alexis', 'two', 'three']\n",
            "['one', 'two', 'three']\n"
          ]
        }
      ]
    },
    {
      "cell_type": "code",
      "source": [
        "numbers = ['one','two','three']\n",
        "numbers_copy = numbers[:]\n",
        "\n",
        "numbers[0] = 'Alexis'\n",
        "\n",
        "print(numbers, numbers_two, sep='\\n')"
      ],
      "metadata": {
        "colab": {
          "base_uri": "https://localhost:8080/"
        },
        "id": "lTu01T8MJYex",
        "outputId": "94192459-c5c6-4068-e606-549b104c88e7"
      },
      "execution_count": 7,
      "outputs": [
        {
          "output_type": "stream",
          "name": "stdout",
          "text": [
            "['Alexis', 'two', 'three']\n",
            "['Alexis', 'two', 'three']\n"
          ]
        }
      ]
    },
    {
      "cell_type": "code",
      "source": [
        "# Merge list\n",
        "numbers_one = [1,2,3]\n",
        "numbers_two = [4,5,6]\n",
        "\n",
        "numbers = numbers_one + numbers_two\n",
        "print(numbers)"
      ],
      "metadata": {
        "colab": {
          "base_uri": "https://localhost:8080/"
        },
        "id": "LSrdSpatJkcJ",
        "outputId": "fa4ed5ce-449e-4a93-b7ea-c7632e722171"
      },
      "execution_count": 9,
      "outputs": [
        {
          "output_type": "stream",
          "name": "stdout",
          "text": [
            "[1, 2, 3, 4, 5, 6]\n"
          ]
        }
      ]
    },
    {
      "cell_type": "code",
      "source": [
        "numbers_one = [1,2,3]\n",
        "numbers_two = [4,5,6]\n",
        "\n",
        "for number in numbers_two:\n",
        "  numbers_one.append(number)\n",
        "\n",
        "print(numbers_one)"
      ],
      "metadata": {
        "colab": {
          "base_uri": "https://localhost:8080/"
        },
        "id": "NNYl96arJ38f",
        "outputId": "b72b6e4a-5172-45e9-a3da-2879ca8e312c"
      },
      "execution_count": 10,
      "outputs": [
        {
          "output_type": "stream",
          "name": "stdout",
          "text": [
            "[1, 2, 3, 4, 5, 6]\n"
          ]
        }
      ]
    },
    {
      "cell_type": "code",
      "source": [
        "numbers_one = [1,2,3]\n",
        "numbers_two = [4,5,6]\n",
        "\n",
        "numbers = (numbers_one, numbers_two)\n",
        "print(numbers)"
      ],
      "metadata": {
        "colab": {
          "base_uri": "https://localhost:8080/"
        },
        "id": "lUQyFl0KL8ID",
        "outputId": "e98ae4a5-7577-49e9-a239-8f87101efebd"
      },
      "execution_count": 11,
      "outputs": [
        {
          "output_type": "stream",
          "name": "stdout",
          "text": [
            "([1, 2, 3], [4, 5, 6])\n"
          ]
        }
      ]
    },
    {
      "cell_type": "code",
      "source": [
        "numbers_one = [1,2,3]\n",
        "numbers_two = [4,5,6]\n",
        "\n",
        "numbers_one.extend(numbers_two)\n",
        "print(numbers_one)"
      ],
      "metadata": {
        "colab": {
          "base_uri": "https://localhost:8080/"
        },
        "id": "8SxCS9hXNPRj",
        "outputId": "6ce9f763-eec0-496b-c2e9-4b8bffeb1848"
      },
      "execution_count": 17,
      "outputs": [
        {
          "output_type": "stream",
          "name": "stdout",
          "text": [
            "[1, 2, 3, 4, 5, 6]\n"
          ]
        }
      ]
    },
    {
      "cell_type": "code",
      "source": [
        "numbers_one = [1,2,3]\n",
        "numbers_two = [4,5,6]\n",
        "\n",
        "for number in (numbers_one, numbers_two):\n",
        "  print(number)\n",
        "\n",
        "  for number in (numbers_one, numbers_two):\n",
        "    for n in number:\n",
        "      print(n)\n",
        "\n",
        "numbers = []\n",
        "for number in (numbers_one, numbers_two):\n",
        "  for n in number:\n",
        "    numbers.append(n)\n",
        "\n",
        "print(numbers)"
      ],
      "metadata": {
        "colab": {
          "base_uri": "https://localhost:8080/"
        },
        "id": "HcI2-s92OUSw",
        "outputId": "cb037f8f-2ef2-46bd-d209-978d913040d8"
      },
      "execution_count": 14,
      "outputs": [
        {
          "output_type": "stream",
          "name": "stdout",
          "text": [
            "[1, 2, 3]\n",
            "1\n",
            "2\n",
            "3\n",
            "4\n",
            "5\n",
            "6\n",
            "[4, 5, 6]\n",
            "1\n",
            "2\n",
            "3\n",
            "4\n",
            "5\n",
            "6\n",
            "[1, 2, 3, 4, 5, 6]\n"
          ]
        }
      ]
    },
    {
      "cell_type": "code",
      "source": [
        "# List Comprehension\n",
        "\n",
        "numbers = [n for number in (numbers_one, numbers_two) for n in number]\n",
        "print(numbers)"
      ],
      "metadata": {
        "colab": {
          "base_uri": "https://localhost:8080/"
        },
        "id": "69jL73uZOvF8",
        "outputId": "36552e66-4e82-4c04-81e3-bd01875d953c"
      },
      "execution_count": 16,
      "outputs": [
        {
          "output_type": "stream",
          "name": "stdout",
          "text": [
            "[1, 2, 3, 4, 5, 6]\n"
          ]
        }
      ]
    },
    {
      "cell_type": "code",
      "source": [
        "numbers_one = [1,2,3]\n",
        "numbers_two = [4,5,6]\n",
        "\n",
        "numbers = [*numbers_one, *numbers_two]\n",
        "print(numbers)"
      ],
      "metadata": {
        "colab": {
          "base_uri": "https://localhost:8080/"
        },
        "id": "4R-gBvG-PqIi",
        "outputId": "0a766043-ad04-461a-9167-4d452d4cf1e4"
      },
      "execution_count": 18,
      "outputs": [
        {
          "output_type": "stream",
          "name": "stdout",
          "text": [
            "[1, 2, 3, 4, 5, 6]\n"
          ]
        }
      ]
    }
  ]
}