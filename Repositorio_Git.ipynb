{
 "cells": [
  {
   "cell_type": "markdown",
   "id": "7e01e070-cf6c-40ff-822d-d6b237c6d15b",
   "metadata": {},
   "source": [
    "<strong>Link de repositorio https://github.com/chriXico/GitPython3.git</strong>"
   ]
  },
  {
   "cell_type": "markdown",
   "id": "06e48193-2f0d-4de9-add9-b6cad15ca1bb",
   "metadata": {},
   "source": [
    "<h1>Codigo de Par o Impar</h1>\n",
    "<p>El usuario es solicitado para ingresar un número entero. Luego, el script utiliza el operador \n",
    "módulo (%) para verificar si el número es divisible por 2 sin dejar residuo.\n",
    "Si el resultado de la operación módulo es 0, el número es par. Si no es 0, el número es impar.\n",
    "El script imprime el resultado en la consola.</p>\n",
    "\n",
    "Pedir al usuario que ingrese un número\n",
    "* n = int(input(\"Ingrese un número: \"))\n",
    "\n",
    "Comprobar si el número es par o impar\n",
    "* if n % 2 == 0:\n",
    "\n",
    "Si el residuo de dividir el número entre 2 es 0, entonces es par\n",
    "\n",
    "* print(n, \"es par.\")\n",
    "\n",
    "* else:\n",
    "\n",
    "Si el residuo de dividir el número entre 2 no es 0, entonces es impar\n",
    "* print(n, \"es impar.\")"
   ]
  },
  {
   "cell_type": "code",
   "execution_count": 5,
   "id": "b718c87e-5ff4-4742-8375-bd7acd1392d3",
   "metadata": {},
   "outputs": [
    {
     "name": "stdin",
     "output_type": "stream",
     "text": [
      "Ingrese un número:  49\n"
     ]
    },
    {
     "name": "stdout",
     "output_type": "stream",
     "text": [
      "49 es impar.\n"
     ]
    }
   ],
   "source": [
    "n = int(input(\"Ingrese un número: \"))\n",
    "\n",
    "if n % 2 == 0:\n",
    "    print(n, \"es par.\")\n",
    "else:\n",
    "    print(n, \"es impar.\")"
   ]
  },
  {
   "cell_type": "markdown",
   "id": "a234e6dd-d1a6-4150-a0c2-bb8f937e10ee",
   "metadata": {},
   "source": [
    "<h1>Codigo de Acronimos</h1>\n",
    "<strong>Este script toma una frase ingresada por el usuario y genera un acrónimo a partir de la primera letra de cada palabra.</strong>\n",
    "<p>El usuario es solicitado para ingresar una frase. La frase es dividida en palabras usando el método split(), \n",
    "y luego se recorren las palabras para extraer la primera letra de cada una.\n",
    "Estas letras se concatenan para formar el acrónimo, que se imprime en la consola.</p>\n"
   ]
  },
  {
   "cell_type": "markdown",
   "id": "72d2eb14-37bb-4b1e-9de7-e33a50d7d675",
   "metadata": {},
   "source": [
    "El input que pide la frase al usuario\n",
    "* frase = input(\"Ingrese una frase: \")\n",
    "\n",
    "Se crea la variable que se inicializa y funciona para almacenar la frase\n",
    "* acronimo = \"\"\n",
    "\n",
    "Se analiza cada palabra en la frase separada por espacios \n",
    "* for palabra in frase.split():\n",
    "\n",
    "Agarra la primera letra de cada palabra y la hace mayuscula\n",
    "* acronimo += palabra[0].upper()\n",
    "\n",
    "Imprime lo que se guardo en la variable\n",
    "* print(\"El acrónimo es:\", acronimo)"
   ]
  },
  {
   "cell_type": "code",
   "execution_count": 3,
   "id": "a8b9d7e7-d211-4d97-b783-0e022ee53082",
   "metadata": {},
   "outputs": [
    {
     "name": "stdin",
     "output_type": "stream",
     "text": [
      "Ingrese una frase:  As Soon As Possible\n"
     ]
    },
    {
     "name": "stdout",
     "output_type": "stream",
     "text": [
      "El acrónimo es: ASAP\n"
     ]
    }
   ],
   "source": [
    "#El input que pide la frase al usuario\n",
    "frase = input(\"Ingrese una frase: \")\n",
    "#Se crea la variable que se inicializa y funciona para almacenar la frase\n",
    "acronimo = \"\"\n",
    "\n",
    "# Se analiza cada palabra en la frase separada por espacios \n",
    "for palabra in frase.split():\n",
    "    #Agarra la primera letra de cada palabra y la hace mayuscula\n",
    "    acronimo += palabra[0].upper()\n",
    "\n",
    "#Imprime lo que se guardo en la variable\n",
    "print(\"El acrónimo es:\", acronimo)"
   ]
  },
  {
   "cell_type": "markdown",
   "id": "1fb0d7cc-13df-4966-9766-833ec6d7ee58",
   "metadata": {},
   "source": [
    "<h1>Codigo de Mad-Libs</h1>\n",
    "\n",
    "<Strong>Solicita al usuario que ingrese un año de inicio y fin de la Segunda Guerra Mundial y un pais que haya participado</strong>\n",
    "* año = input(\"Ingrese un año: \")\n",
    "* año2 = input(\"Ingrese un año: \")\n",
    "* pais = input(\"Ingrese un país: \")\n",
    "\n",
    "<strong>Imprime la información sobre la Segunda Guerra Mundial</strong>\n",
    "* print(\"La Segunda Guerra Mundial comenzó en \" + año)\n",
    "* print(\"La Segunda Guerra Mundial terminó en \" + año2)\n",
    "* print(\"Uno de los principales países en participar fue \" + pais)\n"
   ]
  },
  {
   "cell_type": "code",
   "execution_count": 6,
   "id": "4eb9271d-aa4f-42f7-9e5a-6bcd34e53032",
   "metadata": {},
   "outputs": [
    {
     "name": "stdin",
     "output_type": "stream",
     "text": [
      "Ingrese un año:  1939\n",
      "Ingrese un año:  1945\n",
      "Ingrese un país:  Alemania\n"
     ]
    },
    {
     "name": "stdout",
     "output_type": "stream",
     "text": [
      "La Segunda Guerra Mundial comenzó en 1939\n",
      "La Segunda Guerra Mundial terminó en 1945\n",
      "Uno de los principales países en participar fue Alemania\n"
     ]
    }
   ],
   "source": [
    "año = input(\"Ingrese un año: \")\n",
    "año2 = input(\"Ingrese un año: \")\n",
    "pais = input(\"Ingrese un país: \")\n",
    "\n",
    "print(\"La Segunda Guerra Mundial comenzó en \" + año)\n",
    "print(\"La Segunda Guerra Mundial terminó en \" + año2)\n",
    "print(\"Uno de los principales países en participar fue \" + pais)\n"
   ]
  },
  {
   "cell_type": "markdown",
   "id": "ef4e54f2-3679-4ae8-82e7-31581f62f903",
   "metadata": {},
   "source": [
    "<h1>Codigo de la Biografia</h1>\n",
    "<p>Este script solicita al usuario ingresar información personal, como nombre, \n",
    "fecha de nacimiento, dirección y objetivos personales.\n",
    "Utiliza funciones de validación personalizadas para asegurar que cada entrada sea válida antes de continuar.</p>\n",
    "\n",
    "1. <strong>El script utiliza un bucle while para solicitar nuevamente la entrada si la validación falla, \n",
    "asegurando que se ingrese información válida.</strong>\n",
    "\n",
    "<p>def informacion(pregunta, tipo_validacion):\n",
    "    while True:\n",
    "        respuesta = input(pregunta)\n",
    "        if tipo_validacion(respuesta):\n",
    "            return respuesta\n",
    "        else:\n",
    "            print(\"Entrada inválida. Por favor, inténtelo nuevamente.\")</p>\n",
    "            \n",
    "2. <strong>Las funciones de validación personalizadas incluyen:</strong>\n",
    "\n",
    "<strong>def validarNombre(nombre):return nombre.strip() != \"\"</strong>\n",
    "\n",
    "* validarNombre: Verifica que el nombre ingresado no esté vacío.\n",
    "\n",
    "* Return: True si el nombre no está vacío, False de lo contrario.\n",
    "\n",
    "    \n",
    "<strong>def validarFecha(fecha):return fecha.strip() != </strong>\n",
    "\n",
    "* validarFecha: Verifica que la fecha de nacimiento ingresada no esté vacía.\n",
    "\n",
    "* Returns: True si la fecha no está vacía, False de lo contrario.\n",
    "\n",
    "    \n",
    "<strong>def validarDireccion(direccion):return direccion.strip() != \"\"</strong>\n",
    "\n",
    "* validarDireccion: Verifica que la dirección ingresada no esté vacía.\n",
    "\n",
    "* Returns: True si la dirección no está vacía, False de lo contrario.\n",
    "\n",
    "    \n",
    "<strong>def validarObjetivos(objetivos):return objetivos.strip() != \"\"</strong>\n",
    "\n",
    "* validarObjetivos: Verifica que los objetivos personales ingresados no estén vacíos.\n",
    "    \n",
    "* Returns: True si los objetivos no están vacíos, False de lo contrario.\n",
    "\n",
    "3. <strong>El main es donde se recopila toda la informacion y posteriormente de imprime</strong>\n",
    "<p>def main():\n",
    "    print(\"Por favor, ingresa tu información personal:\")\n",
    "    nombre = informacion(\"¿Cómo te llamas? \", validarNombre)\n",
    "    fecha_nacimiento = informacion(\"¿Cuál es tu fecha de nacimiento? \", validarFecha)\n",
    "    direccion = informacion(\"¿Cuál es tu dirección? \", validarDireccion)\n",
    "    objetivos_personales = informacion(\"¿Cuáles son tus objetivos personales? \", validarObjetivos)</p>\n",
    "\n",
    "<p> print(\"\\nResumen de la información:\")\n",
    "    print(\"Nombre:\", nombre)\n",
    "    print(\"Fecha de nacimiento:\", fecha_nacimiento)\n",
    "    print(\"Dirección:\", direccion)\n",
    "    print(\"Objetivos personales:\", objetivos_personales)</p>\n",
    "\n",
    "4. funcion __name__ para llamar el main\n",
    "<p>if __name__ == \"__main__\":\n",
    "    main()</p>"
   ]
  },
  {
   "cell_type": "code",
   "execution_count": 6,
   "id": "025f1218-97b2-4125-83c2-688603b83eb9",
   "metadata": {},
   "outputs": [
    {
     "name": "stdout",
     "output_type": "stream",
     "text": [
      "Por favor, ingresa tu información personal:\n"
     ]
    },
    {
     "name": "stdin",
     "output_type": "stream",
     "text": [
      "¿Cómo te llamas?  Christopher\n",
      "¿Cuál es tu fecha de nacimiento?  16/01/1999\n",
      "¿Cuál es tu dirección?  Santa Fe\\\n",
      "¿Cuáles son tus objetivos personales?  Terminar la carrera\n"
     ]
    },
    {
     "name": "stdout",
     "output_type": "stream",
     "text": [
      "\n",
      "Resumen de la información:\n",
      "Nombre: Christopher\n",
      "Fecha de nacimiento: 16/01/1999\n",
      "Dirección: Santa Fe\\\n",
      "Objetivos personales: Terminar la carrera\n"
     ]
    }
   ],
   "source": [
    "def informacion(pregunta, tipo_validacion):\n",
    "    while True:\n",
    "        respuesta = input(pregunta)\n",
    "        if tipo_validacion(respuesta):\n",
    "            return respuesta\n",
    "        else:\n",
    "            print(\"Entrada inválida. Por favor, inténtelo nuevamente.\")\n",
    "            \n",
    "def validarNombre(nombre):\n",
    "    return nombre.strip() != \"\"\n",
    "\n",
    "def validarFecha(fecha):\n",
    "    return fecha.strip() != \"\"\n",
    "\n",
    "def validarDireccion(direccion):\n",
    "    return direccion.strip() != \"\"\n",
    "\n",
    "def validarObjetivos(objetivos):\n",
    "    return objetivos.strip() != \"\"\n",
    "\n",
    "def main():\n",
    "    print(\"Por favor, ingresa tu información personal:\")\n",
    "    nombre = informacion(\"¿Cómo te llamas? \", validarNombre)\n",
    "    fecha_nacimiento = informacion(\"¿Cuál es tu fecha de nacimiento? \", validarFecha)\n",
    "    direccion = informacion(\"¿Cuál es tu dirección? \", validarDireccion)\n",
    "    objetivos_personales = informacion(\"¿Cuáles son tus objetivos personales? \", validarObjetivos)\n",
    "\n",
    "    print(\"\\nResumen de la información:\")\n",
    "    print(\"Nombre:\", nombre)\n",
    "    print(\"Fecha de nacimiento:\", fecha_nacimiento)\n",
    "    print(\"Dirección:\", direccion)\n",
    "    print(\"Objetivos personales:\", objetivos_personales)\n",
    "\n",
    "if __name__ == \"__main__\":\n",
    "    main()\n",
    "\n"
   ]
  },
  {
   "cell_type": "markdown",
   "id": "87b2b7d6-8501-42c5-8fa8-125412ada316",
   "metadata": {},
   "source": [
    "<h1>Rock, Paper, Scissors</h1>\n",
    "\n",
    "<strong>Este script implementa un juego de Rock, Paper, Scissors, donde el jugador humano compite contra la computadora.<strong>\n",
    "\n",
    "<p>El juego comienza solicitando al jugador humano que elija entre Rock, Paper o Scissors. La computadora elige una opción al azar de la misma lista.\n",
    "Se importa el randit que es lo que permite que el codigo juegue de manera aleatoria\n",
    "Creamos la variable cpu que es la maquina contrincante y creamos un print donde comience el juego y solicite al jugador escoger</p>\n",
    "\n",
    "from random import randint\n",
    "\n",
    "choice = [\"rock\",\"paper\",\"scissors\"]\n",
    "\n",
    "cpu = choice[randint(0,2)]\n",
    "\n",
    "print(\"Lets play Rock, Paper, Scissors\\n\")\n",
    "player= input(\"Your Move: \").lower()\n",
    "print(\"CPU's move: \"+ cpu)\n",
    "\n",
    "<strong>Se utilizan if y elif para poder crear las opciones que el jugador y la maquina tienen, posteriormente y por medio del randit se declara el ganador</strong>\n",
    "\n",
    "if player == cpu:\n",
    "    print(\"Draw\")\n",
    "\n",
    "elif player == \"rock\" and cpu == \"paper\":\n",
    "     print(\"CPU Wins\")\n",
    "elif player == \"rock\" and cpu == \"scissors\":\n",
    "     print(\"Player wins\")\n",
    "\n",
    "elif player == \"paper\" and cpu == \"rock\":\n",
    "     print(\"Player wins\")\n",
    "elif player == \"paper\" and cpu == \"scissors\":\n",
    "     print(\"CPU Wins\")\n",
    "\n",
    "elif player == \"scissors\" and cpu == \"rock\":\n",
    "     print(\"CPU Wins\")\n",
    "elif player == \"scissors\" and cpu == \"paper\":\n",
    "     print(\"Player wins\")"
   ]
  },
  {
   "cell_type": "code",
   "execution_count": 7,
   "id": "a6ea3ea9-0168-4d9e-95cc-792b24c563c2",
   "metadata": {},
   "outputs": [
    {
     "name": "stdout",
     "output_type": "stream",
     "text": [
      "Lets play Rock, Paper, Scissors\n",
      "\n"
     ]
    },
    {
     "name": "stdin",
     "output_type": "stream",
     "text": [
      "Your Move:  paper\n"
     ]
    },
    {
     "name": "stdout",
     "output_type": "stream",
     "text": [
      "CPU's move: rock\n",
      "Player wins\n"
     ]
    }
   ],
   "source": [
    "from random import randint\n",
    "\n",
    "choice = [\"rock\",\"paper\",\"scissors\"]\n",
    "\n",
    "cpu = choice[randint(0,2)]\n",
    "\n",
    "print(\"Lets play Rock, Paper, Scissors\\n\")\n",
    "player= input(\"Your Move: \").lower()\n",
    "print(\"CPU's move: \"+ cpu)\n",
    "\n",
    "if player == cpu:\n",
    "    print(\"Draw\")\n",
    "\n",
    "elif player == \"rock\" and cpu == \"paper\":\n",
    "    print(\"CPU Wins\")\n",
    "elif player == \"rock\" and cpu == \"scissors\":\n",
    "    print(\"Player wins\")\n",
    "\n",
    "elif player == \"paper\" and cpu == \"rock\":\n",
    "    print(\"Player wins\")\n",
    "elif player == \"paper\" and cpu == \"scissors\":\n",
    "    print(\"CPU Wins\")\n",
    "\n",
    "elif player == \"scissors\" and cpu == \"rock\":\n",
    "    print(\"CPU Wins\")\n",
    "elif player == \"scissors\" and cpu == \"paper\":\n",
    "    print(\"Player wins\")"
   ]
  },
  {
   "cell_type": "markdown",
   "id": "10fe5871-ebc6-4194-ba96-aaa9c5158bfa",
   "metadata": {},
   "source": [
    "<h1>Codigo del Adivinador de numeros</h1>\n",
    "\n",
    "<strong>Comienza con el importe del random, se crea un generador aleatorio entre 1 y 50</strong>\n",
    "import random\n",
    "number = random.randrange (1,51)\n",
    "\n",
    "<strong>Esta linea pide al usuario que adivine un número entre 1 y 50 y abajo se crea el contador de intentos para atinar</strong>\n",
    "\n",
    "guess = int(input(\"Di algun numero entre 1 y 50: \"))\n",
    "intentos = 0\n",
    "\n",
    "<p><strong>Este es el bucle while que pide al usuario intentar un numero mas abajo o mas arriba dependiendo de \n",
    "lo que la maquina haya seleccionado, este mismo se repite hasta que el usuario adivina el numero</strong></p>\n",
    "while guess != number:\n",
    "    intentos += 1\n",
    "\n",
    "    if guess < number:\n",
    "        print (\"Necesitas decir un numero mas alto. Intentalo de nuevo\")\n",
    "        guess = int(input(\"Di algun numero entre 1 y 50: \"))\n",
    "    else: \n",
    "        print (\"Necesitas decir un numero mas bajo. Intentalo de nuevo\")\n",
    "        guess = int(input(\"Di algun numero entre 1 y 50: \"))\n",
    "\n",
    "<strong>Este ultimo pedazo imprime el mensaje de exito en caso de adivinar correctamente al igual el numero de intentos</strong>\n",
    "print(\"Adivinaste el numero!\")\n",
    "print(\"Lo lograste un total de \", intentos, \" intentos\")"
   ]
  },
  {
   "cell_type": "code",
   "execution_count": 20,
   "id": "892a801b-bdf1-48f1-862a-526261b43eb8",
   "metadata": {},
   "outputs": [
    {
     "name": "stdin",
     "output_type": "stream",
     "text": [
      "Di algun numero entre 1 y 50:  30\n"
     ]
    },
    {
     "name": "stdout",
     "output_type": "stream",
     "text": [
      "Necesitas decir un numero mas alto. Intentalo de nuevo\n"
     ]
    },
    {
     "name": "stdin",
     "output_type": "stream",
     "text": [
      "Di algun numero entre 1 y 50:  49\n"
     ]
    },
    {
     "name": "stdout",
     "output_type": "stream",
     "text": [
      "Necesitas decir un numero mas bajo. Intentalo de nuevo\n"
     ]
    },
    {
     "name": "stdin",
     "output_type": "stream",
     "text": [
      "Di algun numero entre 1 y 50:  40\n"
     ]
    },
    {
     "name": "stdout",
     "output_type": "stream",
     "text": [
      "Necesitas decir un numero mas bajo. Intentalo de nuevo\n"
     ]
    },
    {
     "name": "stdin",
     "output_type": "stream",
     "text": [
      "Di algun numero entre 1 y 50:  37\n"
     ]
    },
    {
     "name": "stdout",
     "output_type": "stream",
     "text": [
      "Necesitas decir un numero mas bajo. Intentalo de nuevo\n"
     ]
    },
    {
     "name": "stdin",
     "output_type": "stream",
     "text": [
      "Di algun numero entre 1 y 50:  34\n"
     ]
    },
    {
     "name": "stdout",
     "output_type": "stream",
     "text": [
      "Necesitas decir un numero mas bajo. Intentalo de nuevo\n"
     ]
    },
    {
     "name": "stdin",
     "output_type": "stream",
     "text": [
      "Di algun numero entre 1 y 50:  31\n"
     ]
    },
    {
     "name": "stdout",
     "output_type": "stream",
     "text": [
      "Necesitas decir un numero mas alto. Intentalo de nuevo\n"
     ]
    },
    {
     "name": "stdin",
     "output_type": "stream",
     "text": [
      "Di algun numero entre 1 y 50:  32\n"
     ]
    },
    {
     "name": "stdout",
     "output_type": "stream",
     "text": [
      "Necesitas decir un numero mas alto. Intentalo de nuevo\n"
     ]
    },
    {
     "name": "stdin",
     "output_type": "stream",
     "text": [
      "Di algun numero entre 1 y 50:  33\n"
     ]
    },
    {
     "name": "stdout",
     "output_type": "stream",
     "text": [
      "Adivinaste el numero!\n",
      "Lo lograste un total de  7  intentos\n"
     ]
    }
   ],
   "source": [
    "import random\n",
    "number = random.randrange (1,51)\n",
    "\n",
    "guess = int(input(\"Di algun numero entre 1 y 50: \"))\n",
    "intentos = 0\n",
    "\n",
    "while guess != number:\n",
    "    intentos += 1\n",
    "\n",
    "    if guess < number:\n",
    "        print (\"Necesitas decir un numero mas alto. Intentalo de nuevo\")\n",
    "        guess = int(input(\"Di algun numero entre 1 y 50: \"))\n",
    "    else: \n",
    "        print (\"Necesitas decir un numero mas bajo. Intentalo de nuevo\")\n",
    "        guess = int(input(\"Di algun numero entre 1 y 50: \"))\n",
    "\n",
    "print(\"Adivinaste el numero!\")\n",
    "print(\"Lo lograste un total de \", intentos, \" intentos\")"
   ]
  },
  {
   "cell_type": "markdown",
   "id": "ea8d2cdf-4418-46d6-9de6-6916e12806da",
   "metadata": {},
   "source": [
    "<h1>Codigo del palindromo</h1>\n",
    "\n",
    "**Solicita al usuario que ingrese una palabra, frase u oración y la convierte en una lista de caracteres en minúsculas.**\n",
    "\n",
    "* Returns: list: Lista de caracteres en minúsculas.\n",
    "    \n",
    "def convertInputString():\n",
    "    rawInput = input(\"\\nPor favor intruce una palabra, frase u oracion \\npara verificar si es un palindromo: \") \n",
    "    rawString = rawInput.lower() \n",
    "    rawList = list(rawString) \n",
    "    return rawList\n",
    "    \n",
    "**Elimina los caracteres no alfabéticos de una lista de caracteres.**\n",
    "\n",
    "* Parameters: dirtyList (list): Lista de caracteres que pueden contener caracteres no alfabéticos.\n",
    "\n",
    "* Returns:list: Lista de caracteres sin caracteres no alfabéticos.\n",
    "\n",
    "def stripAnalphabetics(dirtyList): \n",
    "    analphabeticList = [\" \", \"-\", \".\", \",\", \":\", \";\", \"!\", \"?\", \"'\", \"\\\"\"] \n",
    "    for character in analphabeticList: \n",
    "        if character in dirtyList: \n",
    "            dirtyList.remove(character) \n",
    "            return stripAnalphabetics(dirtyList)\n",
    "    return dirtyList\n",
    "\n",
    "**Verifica si una lista de caracteres es un palíndromo.**\n",
    "\n",
    "* Parameters: straightList (list): Lista de caracteres a verificar.\n",
    "\n",
    "* Returns:str: Mensaje indicando si la lista de caracteres es un palíndromo o no.\n",
    "    \n",
    "def runPalindromeCheck(straightList):\n",
    "    reversedList = straightList[::-1] \n",
    "    if reversedList == straightList: \n",
    "        return \"El texto introducido si es un palindromo!\"\n",
    "    else: \n",
    "        return \"El texto introducido no es un palindromo.\"\n",
    "\n",
    "**Función principal que solicita al usuario una entrada de texto, elimina caracteres no \n",
    "alfabéticos y verifica si es un palíndromo.**\n",
    "\n",
    "def main(): \n",
    "    print(\"\\nVerificacion\") \n",
    "    originalList = convertInputString()  \n",
    "    originalList = stripAnalphabetics(originalList) \n",
    "    palindromeCheck = runPalindromeCheck(originalList)\n",
    "    print(palindromeCheck)\n",
    "\n",
    "main()"
   ]
  },
  {
   "cell_type": "code",
   "execution_count": 8,
   "id": "8fe8312a-32dc-45f8-a20a-d0171750f86a",
   "metadata": {},
   "outputs": [
    {
     "name": "stdout",
     "output_type": "stream",
     "text": [
      "\n",
      "Verificacion\n"
     ]
    },
    {
     "name": "stdin",
     "output_type": "stream",
     "text": [
      "\n",
      "Por favor intruce una palabra, frase u oracion \n",
      "para verificar si es un palindromo:  madam\n"
     ]
    },
    {
     "name": "stdout",
     "output_type": "stream",
     "text": [
      "El texto introducido si es un palindromo!\n"
     ]
    }
   ],
   "source": [
    "def convertInputString():\n",
    "    rawInput = input(\"\\nPor favor intruce una palabra, frase u oracion \\npara verificar si es un palindromo: \") \n",
    "    rawString = rawInput.lower() \n",
    "    rawList = list(rawString) \n",
    "    return rawList\n",
    "\n",
    "def stripAnalphabetics(dirtyList): \n",
    "    analphabeticList = [\" \", \"-\", \".\", \",\", \":\", \";\", \"!\", \"?\", \"'\", \"\\\"\"] \n",
    "    for character in analphabeticList: \n",
    "        if character in dirtyList: \n",
    "            dirtyList.remove(character) \n",
    "            return stripAnalphabetics(dirtyList)\n",
    "    return dirtyList \n",
    "\n",
    "def runPalindromeCheck(straightList):\n",
    "    reversedList = straightList[::-1] \n",
    "    if reversedList == straightList: \n",
    "        return \"El texto introducido si es un palindromo!\"\n",
    "    else: \n",
    "        return \"El texto introducido no es un palindromo.\" \n",
    "\n",
    "def main(): \n",
    "    print(\"\\nVerificacion\") \n",
    "    originalList = convertInputString()  \n",
    "    originalList = stripAnalphabetics(originalList) \n",
    "    palindromeCheck = runPalindromeCheck(originalList)\n",
    "    print(palindromeCheck)\n",
    "\n",
    "main()"
   ]
  },
  {
   "cell_type": "markdown",
   "id": "85981a1f-dfd3-4a00-9e82-db8d4a9b7c6e",
   "metadata": {},
   "source": [
    "<h1>Codigo de las Propinas</h1>\n",
    "\n",
    "<p>\n",
    "Este código proporciona una forma rápida de calcular la propina y el total con propina \n",
    "para tres tasas diferentes, y luego imprime los resultados.\n",
    "</p>\n",
    "\n",
    "1. **Solicitar la factura total**\n",
    "\n",
    "cuenta = float(input(\"¿Cuál es la factura total de hoy, por favor? $\"))\n",
    "\n",
    "2. **Calcular la propina del 18%, 20% y 25%**\n",
    "\n",
    "propina18 = round(cuenta * 0.18)\n",
    "propina20 = round(cuenta * 0.20)\n",
    "propina25 = round(cuenta * 0.25)\n",
    "\n",
    "3. **Calcular el total con propina para cada tasa**\n",
    "\n",
    "total18 = round(cuenta + propina18)\n",
    "total20 = round(cuenta + propina20)\n",
    "total25 = round(cuenta + propina25)\n",
    "\n",
    "4. **Imprimir los resultados**\n",
    "\n",
    "print(f\"La propina del 18% es de ${propina18}, lo que eleva el total a ${total18}\")\n",
    "print(f\"La propina del 20% es de ${propina20}, lo que eleva el total a ${total20}\")\n",
    "print(f\"La propina del 25% es de ${propina25}, lo que eleva el total a ${total25}\")"
   ]
  },
  {
   "cell_type": "code",
   "execution_count": 26,
   "id": "bd83bdbb-c49c-477f-bff4-938ebabfd5da",
   "metadata": {},
   "outputs": [
    {
     "name": "stdin",
     "output_type": "stream",
     "text": [
      "¿Cuál es la factura total de hoy, por favor? $ 1672\n"
     ]
    },
    {
     "name": "stdout",
     "output_type": "stream",
     "text": [
      "La propina del 18% es de $301, lo que eleva el total a $1973\n",
      "La propina del 20% es de $334, lo que eleva el total a $2006\n",
      "La propina del 25% es de $418, lo que eleva el total a $2090\n"
     ]
    }
   ],
   "source": [
    "cuenta = float(input(\"¿Cuál es la factura total de hoy, por favor? $\"))\n",
    "\n",
    "propina18 = round(cuenta * 0.18)\n",
    "propina20 = round(cuenta * 0.20)\n",
    "propina25 = round(cuenta * 0.25)\n",
    "\n",
    "total18 = round(cuenta + propina18)\n",
    "total20 = round(cuenta + propina20)\n",
    "total25 = round(cuenta + propina25)\n",
    "\n",
    "print(f\"La propina del 18% es de ${propina18}, lo que eleva el total a ${total18}\")\n",
    "print(f\"La propina del 20% es de ${propina20}, lo que eleva el total a ${total20}\")\n",
    "print(f\"La propina del 25% es de ${propina25}, lo que eleva el total a ${total25}\")"
   ]
  },
  {
   "cell_type": "markdown",
   "id": "8ae1a820-3912-4ded-b1ec-53f42065cebb",
   "metadata": {},
   "source": [
    "<h1>Codigo del Correo</h1>\n",
    "\n",
    "1. **Solicitar al usuario que ingrese su dirección de correo electrónico**\n",
    "\n",
    "email = input(\"Escriba su dirección de correo electrónico: \").strip()\n",
    "\n",
    "2. **Extraer y almacenar el nombre de usuario**\n",
    "\n",
    "username = email[:email.index(\"@\")]\n",
    "\n",
    "3. **Extraer y almacenar el nombre de dominio**\n",
    "\n",
    "domain = email[email.index(\"@\")+1:]\n",
    "\n",
    "5. **Crear el resultado utilizando el nombre de usuario y el nombre de dominio**\n",
    "\n",
    "resultado = \"Tu nombre de usuario = {}\\nTu dominio = {}\".format(username, domain)\n",
    "\n",
    "6. **Imprimir el resultado**\n",
    "\n",
    "print(resultado)"
   ]
  },
  {
   "cell_type": "code",
   "execution_count": 28,
   "id": "d6a97a4f-72cc-4a7b-88f9-b4f1bb2e74b0",
   "metadata": {},
   "outputs": [
    {
     "name": "stdin",
     "output_type": "stream",
     "text": [
      "Escriba su dirección de correo electrónico:  tecolotemamon@outlook.com\n"
     ]
    },
    {
     "name": "stdout",
     "output_type": "stream",
     "text": [
      "Tu nombre de usuario = tecolotemamon\n",
      "Tu dominio = outlook.com\n"
     ]
    }
   ],
   "source": [
    "email = input(\"Escriba su dirección de correo electrónico: \").strip()\n",
    "\n",
    "username = email[:email.index(\"@\")]\n",
    "\n",
    "domain = email[email.index(\"@\")+1:]\n",
    "\n",
    "resultado = \"Tu nombre de usuario = {}\\nTu dominio = {}\".format(username, domain)\n",
    "\n",
    "print(resultado)\n"
   ]
  },
  {
   "cell_type": "markdown",
   "id": "9a6acb52-4b2b-420c-bf89-69d58b378062",
   "metadata": {},
   "source": [
    "<h1>Codigo del Contador de palabras</h1>\n",
    "   \n",
    "<p>Esta función cuenta el número de palabras en un texto dado.\n",
    "Parameters:\n",
    "texto (str): El texto del que se contarán las palabras.</p>\n",
    "\n",
    "<p>def contar_palabras(texto):</p>\n",
    "   <p> palabras = texto.split()</p>\n",
    "    <p>return len(palabras)</p>\n",
    "\n",
    "**Función principal que solicita al usuario una oración y el nombre de un archivo para contar palabras.\n",
    "    Imprime el número de palabras en la oración ingresada por el usuario y en el archivo especificado.**\n",
    "\n",
    "def main():\n",
    "\n",
    "oracion = input(\"¿Qué tienes en mente hoy? \")\n",
    "\n",
    "**Contar palabras en la oración ingresada por el usuario**\n",
    "    \n",
    "<p>palabras_oracion = contar_palabras(oracion)</p>\n",
    "<p>print(\"¡Qué bien, acabas de decirme lo que tienes en mente en\", palabras_oracion, \"palabras!\")</p>\n",
    "\n",
    "**Solicitar al usuario el nombre del archivo y contar palabras en el archivo**\n",
    "    <p>nombre_archivo = input(\"Por favor, ingresa el nombre del archivo para contar palabras: \")</p>\n",
    "    <p>try:</p>\n",
    "       <p> with open(nombre_archivo, 'r') as archivo:</p>\n",
    "         <p>   contenido = archivo.read()</p>\n",
    "         <p>   palabras_archivo = contar_palabras(contenido)</p>\n",
    "          <p>  print(f\"El archivo '{nombre_archivo}' contiene {palabras_archivo} palabras.\")</p>\n",
    "  <p>  except FileNotFoundError:\n",
    "   <p>     print(\"El archivo no pudo ser encontrado.\")</p>\n",
    "\n",
    "<p>if __name__ == \"__main__\":</p>\n",
    "   <p> main()</p>"
   ]
  },
  {
   "cell_type": "code",
   "execution_count": 29,
   "id": "8240b41e-32e2-4ed8-9b6f-1e9c2f6dc0a9",
   "metadata": {},
   "outputs": [
    {
     "name": "stdin",
     "output_type": "stream",
     "text": [
      "¿Qué tienes en mente hoy?  La 1ra guerra mundial fue mas corta que la 2da, ya que la 1ra duro 4 años desde 1914 a 1918 y la 2da casi 6 desde 1939 hasta 1945.\n"
     ]
    },
    {
     "name": "stdout",
     "output_type": "stream",
     "text": [
      "¡Qué bien, acabas de decirme lo que tienes en mente en 30 palabras!\n"
     ]
    },
    {
     "name": "stdin",
     "output_type": "stream",
     "text": [
      "Por favor, ingresa el nombre del archivo para contar palabras:  clasejupyter.txt\n"
     ]
    },
    {
     "name": "stdout",
     "output_type": "stream",
     "text": [
      "El archivo no pudo ser encontrado.\n"
     ]
    }
   ],
   "source": [
    "#Contador de palabras\n",
    "\n",
    "def contar_palabras(texto):\n",
    "    \"\"\"\n",
    "    Esta función cuenta el número de palabras en un texto dado.\n",
    "    Parameters:\n",
    "    texto (str): El texto del que se contarán las palabras.\n",
    "    Returns:\n",
    "    int: El número de palabras en el texto.\n",
    "    \"\"\"\n",
    "    palabras = texto.split()\n",
    "    return len(palabras)\n",
    "\n",
    "def main():\n",
    "    \"\"\"\n",
    "    Función principal que solicita al usuario una oración y el nombre de un archivo para contar palabras.\n",
    "    Imprime el número de palabras en la oración ingresada por el usuario y en el archivo especificado.\n",
    "    \"\"\"\n",
    "    oracion = input(\"¿Qué tienes en mente hoy? \")\n",
    "\n",
    "    # Contar palabras en la oración ingresada por el usuario\n",
    "    palabras_oracion = contar_palabras(oracion)\n",
    "    print(\"¡Qué bien, acabas de decirme lo que tienes en mente en\", palabras_oracion, \"palabras!\")\n",
    "\n",
    "    # Solicitar al usuario el nombre del archivo y contar palabras en el archivo\n",
    "    nombre_archivo = input(\"Por favor, ingresa el nombre del archivo para contar palabras: \")\n",
    "    try:\n",
    "        with open(nombre_archivo, 'r') as archivo:\n",
    "            contenido = archivo.read()\n",
    "            palabras_archivo = contar_palabras(contenido)\n",
    "            print(f\"El archivo '{nombre_archivo}' contiene {palabras_archivo} palabras.\")\n",
    "    except FileNotFoundError:\n",
    "        print(\"El archivo no pudo ser encontrado.\")\n",
    "\n",
    "if __name__ == \"__main__\":\n",
    "    main()\n"
   ]
  },
  {
   "cell_type": "markdown",
   "id": "7997121c-8fe6-4c84-8741-3060c9f8f489",
   "metadata": {},
   "source": [
    "<h1>Generador de letras de canciones</h1>"
   ]
  },
  {
   "cell_type": "code",
   "execution_count": null,
   "id": "1f09c7eb-b183-4105-9c0a-b3c829bea17b",
   "metadata": {},
   "outputs": [
    {
     "name": "stdout",
     "output_type": "stream",
     "text": [
      "Bienvenido, por favor elija una canción de estas 3 canciones:\n",
      "\n",
      "1. Baby de Justin Bieber\n",
      "2. Sorry de Justin Bieber\n",
      "3. Love Yourself de Justin Bieber\n"
     ]
    },
    {
     "name": "stdin",
     "output_type": "stream",
     "text": [
      "\n",
      "Por favor, ingrese el número de la canción que elija (o * para elegir nuevamente):  2\n"
     ]
    },
    {
     "name": "stdout",
     "output_type": "stream",
     "text": [
      "\n",
      "------ Sorry by Justin Bieber ------\n",
      "Paroles de la chanson Sorry par Justin Bieber\n",
      "You gotta go and get angry at all of my honesty\n",
      "You know I try, but I don't do too well with apologies\n",
      "I hope I don't run out of time, could someone call a referee?\n",
      "'Cause I just need one more shot at forgiveness\n",
      "I know you know that I made those mistakes maybe once or twice\n",
      "And by once or twice, I mean maybe a couple of hundred times\n",
      "So let me, oh, let me redeem, oh, redeem, oh, myself tonight\n",
      "'Cause I just need one more shot at second chances\n",
      "\n",
      "Yeah, is it too late now to say sorry?\n",
      "\n",
      "'Cause I'm missing more than just your body\n",
      "Oh, is it too late now to say sorry?\n",
      "Yeah, I know that I let you down\n",
      "Is it too late to say I'm sorry now?\n",
      "\n",
      "I'm sorry, yeah\n",
      "Sorry, yeah\n",
      "Sorry\n",
      "Yeah, I know that I let you down\n",
      "Is it too late to say I'm sorry now?\n",
      "\n",
      "I'll take every single piece of the blame if you want me to\n",
      "But you know that there is no innocent one in this game for two\n",
      "I'll go, I'll go and then you go, you go out and spill the truth\n",
      "Can we both say the words and forget this?\n",
      "\n",
      "\n",
      "Yeah, is it too late now to say sorry?\n",
      "'Cause I'm missing more than just your body\n",
      "Oh, is it too late now to say sorry?\n",
      "Yeah, I know that I let you down\n",
      "Is it too late to say I'm sorry now?\n",
      "I'm not just tryna get you back on me (Oh, no, no)\n",
      "'Cause I'm missing more than just your body (Your body)\n",
      "Oh, is it too late now to say sorry?\n",
      "Yeah, I know that I let you down\n",
      "Is it too late to say I'm sorry now?\n",
      "\n",
      "I'm sorry, yeah\n",
      "Sorry, oh\n",
      "Sorry\n",
      "Yeah, I know that I let you down (I know I let you down)\n",
      "\n",
      "Is it too late to say I'm sorry now?\n",
      "I'm sorry, yeah\n",
      "Sorry, oh\n",
      "Sorry\n",
      "Yeah, I know that I let you down (I know I let you down)\n",
      "Is it too late to say I'm sorry now?\n"
     ]
    }
   ],
   "source": [
    "import requests\n",
    "\n",
    "# Diccionario de canciones por artista\n",
    "canciones = {\n",
    "    \"Justin Bieber\": [\"Baby\", \"Sorry\", \"Love Yourself\"],\n",
    "}\n",
    "\n",
    "def mostrar_menu():\n",
    "    \"\"\"\n",
    "    Muestra el menú de selección de canciones al usuario.\n",
    "    \"\"\"\n",
    "    print(\"Bienvenido, por favor elija una canción de estas 3 canciones:\\n\")\n",
    "    numero = 1\n",
    "    for artista, lista_canciones in canciones.items():\n",
    "        for cancion in lista_canciones:\n",
    "            print(f\"{numero}. {cancion} de {artista}\")\n",
    "            numero += 1\n",
    "\n",
    "def seleccionar_cancion():\n",
    "    \"\"\"\n",
    "    Solicita al usuario que elija una canción y valida la entrada.\n",
    "    \n",
    "    Returns:\n",
    "    int: El número de la canción seleccionada.\n",
    "    \"\"\"\n",
    "    seleccion = input(\"\\nPor favor, ingrese el número de la canción que elija (o * para elegir nuevamente): \")\n",
    "    if seleccion == \"*\":\n",
    "        mostrar_menu()\n",
    "        return seleccionar_cancion()\n",
    "    elif seleccion.isdigit():\n",
    "        seleccion = int(seleccion)\n",
    "        if 1 <= seleccion <= len(canciones) * 3:\n",
    "            return seleccion\n",
    "        else:\n",
    "            print(\"Entrada no válida. Por favor, ingrese un número válido.\")\n",
    "            return seleccionar_cancion()\n",
    "    else:\n",
    "        print(\"Entrada no válida. Por favor, ingrese un número válido.\")\n",
    "        return seleccionar_cancion()\n",
    "\n",
    "def obtener_letra(artista, cancion):\n",
    "    \"\"\"\n",
    "    Obtiene la letra de una canción utilizando la API de letras de canciones.\n",
    "\n",
    "    Parameters:\n",
    "    artista (str): El nombre del artista de la canción.\n",
    "    cancion (str): El nombre de la canción.\n",
    "\n",
    "    Returns:\n",
    "    str: La letra de la canción.\n",
    "    \"\"\"\n",
    "    url = f\"https://api.lyrics.ovh/v1/{artista}/{cancion}\"\n",
    "    respuesta = requests.get(url)\n",
    "    if respuesta.status_code == 200:\n",
    "        data = respuesta.json()\n",
    "        if 'lyrics' in data:\n",
    "            return data['lyrics']\n",
    "    return \"Lo siento, la letra de esta canción no está disponible.\"\n",
    "\n",
    "def main():\n",
    "    \"\"\"\n",
    "    Función principal que guía al usuario para seleccionar una canción y muestra la letra de la misma.\n",
    "    \"\"\"\n",
    "    mostrar_menu()\n",
    "    seleccion = seleccionar_cancion()\n",
    "    index_cancion = (seleccion - 1) % 3\n",
    "    index_artista = (seleccion - 1) // 3\n",
    "    artista = list(canciones.keys())[index_artista]\n",
    "    cancion = canciones[artista][index_cancion]\n",
    "    letra = obtener_letra(artista, cancion)\n",
    "    print(f\"\\n------ {cancion} by {artista} ------\\n{letra}\")\n",
    "    if input(\"\\nPresione * para elegir nuevamente: \") == \"*\":\n",
    "        main()\n",
    "\n",
    "if __name__ == \"__main__\":\n",
    "    main()\n"
   ]
  },
  {
   "cell_type": "code",
   "execution_count": null,
   "id": "bd088a8c-8350-4b3e-a444-871d239bedb0",
   "metadata": {},
   "outputs": [],
   "source": []
  }
 ],
 "metadata": {
  "kernelspec": {
   "display_name": "Python 3 (ipykernel)",
   "language": "python",
   "name": "python3"
  },
  "language_info": {
   "codemirror_mode": {
    "name": "ipython",
    "version": 3
   },
   "file_extension": ".py",
   "mimetype": "text/x-python",
   "name": "python",
   "nbconvert_exporter": "python",
   "pygments_lexer": "ipython3",
   "version": "3.12.2"
  }
 },
 "nbformat": 4,
 "nbformat_minor": 5
}
